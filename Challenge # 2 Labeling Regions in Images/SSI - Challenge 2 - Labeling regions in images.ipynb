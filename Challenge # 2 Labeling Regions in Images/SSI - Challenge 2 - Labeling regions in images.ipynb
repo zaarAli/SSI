{
 "cells": [
  {
   "cell_type": "code",
   "execution_count": 1,
   "metadata": {},
   "outputs": [
    {
     "data": {
      "image/png": "[encoded data removed]",
      "text/plain": [
       "<Figure size 432x288 with 2 Axes>"
      ]
     },
     "metadata": {
      "needs_background": "light"
     },
     "output_type": "display_data"
    }
   ],
   "source": [
    "import numpy as np\n",
    "import matplotlib.pyplot as plt\n",
    "\n",
    "\n",
    "def detect_regions(binary_img):\n",
    "    h, w = binary_img.shape\n",
    "    labels = np.zeros((h, w), dtype=np.int32)\n",
    "    current_label = 1\n",
    "\n",
    "    for i in range(h):\n",
    "        for j in range(w):\n",
    "            if binary_img[i, j] and not labels[i, j]:\n",
    "                # flood fill the connected region\n",
    "                queue = [(i, j)]\n",
    "                labels[i, j] = current_label\n",
    "                while queue:\n",
    "                    x, y = queue.pop(0)\n",
    "                    for dx, dy in ((-1, -1), (-1, 0), (-1, 1), (0, -1), (0, 1), (1, -1), (1, 0), (1, 1)):\n",
    "                        if 0 <= x + dx < h and 0 <= y + dy < w and binary_img[x + dx, y + dy] and not labels[x + dx, y + dy]:\n",
    "                            labels[x + dx, y + dy] = current_label\n",
    "                            queue.append((x + dx, y + dy))\n",
    "                current_label += 1\n",
    "\n",
    "    return labels\n",
    "\n",
    "\n",
    "if __name__ == '__main__':\n",
    "    shape = (10, 10)\n",
    "# Generate black image (sequence)\n",
    "img = np.random.randint(0, 2, shape).astype(np.uint8) * 255\n",
    "\n",
    "\n",
    "labels = detect_regions(img)\n",
    "\n",
    "fig = plt.figure()\n",
    "rows = 1\n",
    "columns = 2\n",
    "\n",
    "fig.add_subplot(rows, columns, 1)\n",
    "plt.imshow(img, cmap = 'gray')\n",
    "plt.title(\"Original Image\")\n",
    "\n",
    "fig.add_subplot(rows, columns, 2)\n",
    "plt.imshow(labels, cmap='tab20')\n",
    "plt.title(\"Detected Regions\")\n",
    "\n",
    "plt.show()\n"
   ]
  },
  {
   "cell_type": "code",
   "execution_count": null,
   "metadata": {},
   "outputs": [],
   "source": []
  }
 ],
 "metadata": {
  "kernelspec": {
   "display_name": "ssi",
   "language": "python",
   "name": "python3"
  },
  "language_info": {
   "codemirror_mode": {
    "name": "ipython",
    "version": 3
   },
   "file_extension": ".py",
   "mimetype": "text/x-python",
   "name": "python",
   "nbconvert_exporter": "python",
   "pygments_lexer": "ipython3",
   "version": "3.9.16"
  },
  "orig_nbformat": 4,
  "vscode": {
   "interpreter": {
    "hash": "50fc839c35699090f2fe415e0ac899c7b4f5ec29d09e32f0fdd94f9ebeca65eb"
   }
  }
 },
 "nbformat": 4,
 "nbformat_minor": 2
}
