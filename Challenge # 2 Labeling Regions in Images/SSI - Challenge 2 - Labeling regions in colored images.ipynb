{
 "cells": [
  {
   "cell_type": "code",
   "execution_count": 3,
   "metadata": {},
   "outputs": [
    {
     "data": {
      "image/png": "[encoded data removed]",
      "text/plain": [
       "<Figure size 432x288 with 2 Axes>"
      ]
     },
     "metadata": {
      "needs_background": "light"
     },
     "output_type": "display_data"
    }
   ],
   "source": [
    "import numpy as np\n",
    "import cv2\n",
    "import matplotlib.pyplot as plt\n",
    "\n",
    "def segment_image(img, low_threshold, high_threshold):\n",
    "    h, w, _ = img.shape\n",
    "    visited = np.zeros((h, w), dtype=np.uint8)\n",
    "    regions = []\n",
    "\n",
    "    def check_neighbors(x, y):\n",
    "        neighbors = []\n",
    "        if x > 0:\n",
    "            neighbors.append((x - 1, y))\n",
    "        if x < h - 1:\n",
    "            neighbors.append((x + 1, y))\n",
    "        if y > 0:\n",
    "            neighbors.append((x, y - 1))\n",
    "        if y < w - 1:\n",
    "            neighbors.append((x, y + 1))\n",
    "        if x > 0 and y > 0:\n",
    "            neighbors.append((x - 1, y - 1))\n",
    "        if x > 0 and y < w - 1:\n",
    "            neighbors.append((x - 1, y + 1))\n",
    "        if x < h - 1 and y > 0:\n",
    "            neighbors.append((x + 1, y - 1))\n",
    "        if x < h - 1 and y < w - 1:\n",
    "            neighbors.append((x + 1, y + 1))\n",
    "        return neighbors\n",
    "\n",
    "    def dfs(x, y, region_id):\n",
    "        visited[x][y] = region_id\n",
    "        region = [(x, y)]\n",
    "        for i, j in check_neighbors(x, y):\n",
    "            luminescence = np.sum(img[i][j]) / 3\n",
    "            if visited[i][j] == 0 and low_threshold <= luminescence <= high_threshold:\n",
    "                region.extend(dfs(i, j, region_id))\n",
    "        return region\n",
    "\n",
    "    region_id = 1\n",
    "    for i in range(h):\n",
    "        for j in range(w):\n",
    "            luminescence = np.sum(img[i][j]) / 3\n",
    "            if visited[i][j] == 0 and low_threshold <= luminescence <= high_threshold:\n",
    "                region = dfs(i, j, region_id)\n",
    "                regions.append(region)\n",
    "                region_id += 1\n",
    "\n",
    "    return regions\n",
    "\n",
    "\n",
    "def main():\n",
    "    img = cv2.imread(\"image.jpg\")\n",
    "\n",
    "    low_threshold = 50\n",
    "    high_threshold = 110\n",
    "    regions = segment_image(img, low_threshold, high_threshold)\n",
    "    segmented_image = np.zeros_like(img)\n",
    "    for i, region in enumerate(regions):\n",
    "        for x, y in region:\n",
    "            segmented_image[x][y] = [i * 50, i * 100, i * 150]\n",
    "    \n",
    "    fig = plt.figure()\n",
    "    rows = 1\n",
    "    columns = 2\n",
    "    fig.add_subplot(rows, columns, 1)\n",
    "    plt.imshow(img)\n",
    "    plt.title(\"Original Image\")\n",
    "\n",
    "    fig.add_subplot(rows, columns, 2)\n",
    "    plt.title(\"Detected Regions\")\n",
    "    plt.imshow(cv2.cvtColor(segmented_image, cv2.COLOR_BGR2RGB))\n",
    "    \n",
    "    plt.show()\n",
    "\n",
    "if __name__ == '__main__':\n",
    "    main()"
   ]
  },
  {
   "cell_type": "code",
   "execution_count": 5,
   "metadata": {},
   "outputs": [
    {
     "data": {
      "image/png": "[encoded data removed]",
      "text/plain": [
       "<Figure size 432x288 with 2 Axes>"
      ]
     },
     "metadata": {
      "needs_background": "light"
     },
     "output_type": "display_data"
    }
   ],
   "source": [
    "\n",
    "\n",
    "def region_segmentation(image, threshold=0.5):\n",
    "    rows, cols = image.shape\n",
    "    visited = np.zeros_like(image)\n",
    "    segments = []\n",
    "    \n",
    "    def dfs(x, y, segment):\n",
    "        if x < 0 or x >= rows or y < 0 or y >= cols:\n",
    "            return\n",
    "        if visited[x, y]:\n",
    "            return\n",
    "        if np.abs(image[x, y] - image[segment[0][0], segment[0][1]]) > threshold:\n",
    "            return\n",
    "        visited[x, y] = 1\n",
    "        segment.append((x, y))\n",
    "        dfs(x-1, y, segment)\n",
    "        dfs(x+1, y, segment)\n",
    "        dfs(x, y-1, segment)\n",
    "        dfs(x, y+1, segment)\n",
    "    \n",
    "    for i in range(rows):\n",
    "        for j in range(cols):\n",
    "            if visited[i, j]:\n",
    "                continue\n",
    "            segment = [(i, j)]\n",
    "            dfs(i, j, segment)\n",
    "            segments.append(segment)\n",
    "    \n",
    "    return segments\n",
    "\n",
    "# Create a random 8x8 grayscale image\n",
    "image = np.random.rand(8, 8)\n",
    "\n",
    "# Segment the image\n",
    "segments = region_segmentation(image)\n",
    "\n",
    "# Plot original image\n",
    "plt.subplot(121)\n",
    "plt.imshow(image, cmap='gray')\n",
    "plt.title('Original Image')\n",
    "\n",
    "# Plot segmented image\n",
    "segmented_image = np.zeros_like(image)\n",
    "for i, segment in enumerate(segments):\n",
    "    for x, y in segment:\n",
    "        segmented_image[x, y] = i\n",
    "plt.subplot(122)\n",
    "plt.imshow(segmented_image, cmap='tab10')\n",
    "plt.title('Segmented Image')\n",
    "\n",
    "plt.show()\n"
   ]
  },
  {
   "cell_type": "code",
   "execution_count": null,
   "metadata": {},
   "outputs": [],
   "source": []
  }
 ],
 "metadata": {
  "kernelspec": {
   "display_name": "ssi",
   "language": "python",
   "name": "python3"
  },
  "language_info": {
   "codemirror_mode": {
    "name": "ipython",
    "version": 3
   },
   "file_extension": ".py",
   "mimetype": "text/x-python",
   "name": "python",
   "nbconvert_exporter": "python",
   "pygments_lexer": "ipython3",
   "version": "3.9.16"
  },
  "orig_nbformat": 4,
  "vscode": {
   "interpreter": {
    "hash": "50fc839c35699090f2fe415e0ac899c7b4f5ec29d09e32f0fdd94f9ebeca65eb"
   }
  }
 },
 "nbformat": 4,
 "nbformat_minor": 2
}
