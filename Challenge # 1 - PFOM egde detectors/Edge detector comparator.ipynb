{
 "cells": [
  {
   "cell_type": "code",
   "execution_count": 65,
   "id": "08d9c11e",
   "metadata": {},
   "outputs": [],
   "source": [
    "import numpy as np\n",
    "import cv2\n",
    "import matplotlib.pyplot as plt\n",
    "from scipy.ndimage import distance_transform_edt"
   ]
  },
  {
   "cell_type": "code",
   "execution_count": 66,
   "id": "ff90aa6f",
   "metadata": {},
   "outputs": [],
   "source": [
    "def canny_detector(img):\n",
    "    canny = cv2.Canny(img, 50, 150)\n",
    "    return canny\n"
   ]
  },
  {
   "cell_type": "code",
   "execution_count": 67,
   "id": "caeaec62",
   "metadata": {},
   "outputs": [],
   "source": [
    "def sobel_detector(img):\n",
    "    sobelx = cv2.Sobel(img, cv2.CV_64F, 1, 0, ksize=3)\n",
    "    sobely = cv2.Sobel(img, cv2.CV_64F, 0, 1, ksize=3)\n",
    "    sobel = np.sqrt(np.square(sobelx) + np.square(sobely))\n",
    "    sobel = np.where(sobel > 150, 255, 0)\n",
    "    return sobel"
   ]
  },
  {
   "cell_type": "code",
   "execution_count": 68,
   "id": "fd242322",
   "metadata": {},
   "outputs": [],
   "source": [
    "def prewitt_detector(img):\n",
    "    prewittx = cv2.Sobel(img, cv2.CV_64F, 1, 0, ksize=3, scale=1, delta=0, borderType=cv2.BORDER_DEFAULT)\n",
    "    prewitty = cv2.Sobel(img, cv2.CV_64F, 0, 1, ksize=3, scale=1, delta=0, borderType=cv2.BORDER_DEFAULT)\n",
    "    prewitt = np.sqrt(np.square(prewittx) + np.square(prewitty))\n",
    "    prewitt = np.where(prewitt > 150, 255, 0)\n",
    "    return prewitt"
   ]
  },
  {
   "cell_type": "code",
   "execution_count": 69,
   "id": "50879ef0",
   "metadata": {},
   "outputs": [],
   "source": [
    "def roberts_detector(img):\n",
    "    robertsx = cv2.Sobel(img, cv2.CV_64F, 1, 0, ksize=3, scale=1, delta=0, borderType=cv2.BORDER_DEFAULT)\n",
    "    robertsy = cv2.Sobel(img, cv2.CV_64F, 0, 1, ksize=3, scale=1, delta=0, borderType=cv2.BORDER_DEFAULT)\n",
    "    roberts = np.abs(robertsx) + np.abs(robertsy)\n",
    "    roberts = np.where(roberts > 150, 255, 0)\n",
    "    return roberts"
   ]
  },
  {
   "cell_type": "code",
   "execution_count": 70,
   "id": "e3da9875",
   "metadata": {},
   "outputs": [],
   "source": [
    "\n",
    "def GaussianBlur(img):\n",
    "    GaussianBlur_ = cv2.GaussianBlur(img, (3,3), 0)\n",
    "    return GaussianBlur_"
   ]
  },
  {
   "cell_type": "code",
   "execution_count": 71,
   "id": "d679f8ae",
   "metadata": {},
   "outputs": [],
   "source": [
    "def apply_edge_detectors(img):\n",
    "    fig, axs = plt.subplots(2, 3, figsize=(15, 10))\n",
    "    fig.suptitle(\"Edge Detectors Comparison\")\n",
    "    axs = axs.ravel()\n",
    "\n",
    "    # Canny Edge Detector\n",
    "    canny = canny_detector(img)\n",
    "    axs[0].imshow(canny, cmap='gray')\n",
    "    axs[0].set_title(\"Canny Edge Detector\")\n",
    "\n",
    "    # Sobel Edge Detector\n",
    "    sobel = sobel_detector(img)\n",
    "    axs[1].imshow(sobel, cmap='gray')\n",
    "    axs[1].set_title(\"Sobel Edge Detector\")\n",
    "\n",
    "    # Prewitt Edge Detector\n",
    "    prewitt = prewitt_detector(img)\n",
    "    axs[2].imshow(prewitt, cmap='gray')\n",
    "    axs[2].set_title(\"Prewitt Edge Detector\")\n",
    "\n",
    "    # Roberts Edge Detector\n",
    "    roberts = roberts_detector(img)\n",
    "    axs[3].imshow(roberts, cmap='gray')\n",
    "    axs[3].set_title(\"Roberts Edge Detector\")\n",
    "\n",
    "    # Laplacian of Gaussian\n",
    "    GaussianBlur_ = GaussianBlur(img)\n",
    "    axs[4].imshow(GaussianBlur_, cmap='gray')\n",
    "    axs[4].set_title(\"GaussianBlur\")\n",
    "    \n",
    "    axs[5].imshow(img, cmap='gray')\n",
    "    axs[5].set_title(\"Noisy image\")\n",
    "    \n",
    "    plt.show()"
   ]
  },
  {
   "cell_type": "code",
   "execution_count": 72,
   "id": "5bcaf42c",
   "metadata": {},
   "outputs": [],
   "source": [
    "def create_image():\n",
    "    # Create a 2D numpy array with half of its values 0 and half 255\n",
    "    img = np.zeros((100, 100), dtype=np.uint8)\n",
    "    img[:, :50] = 255\n",
    "    plt.imshow(img, cmap='gray')\n",
    "    plt.title(\"Original Image\")\n",
    "    plt.show()\n",
    "    \n",
    "    canny = cv2.Canny(img, 50, 150)\n",
    "    plt.imshow(canny, cmap='gray')\n",
    "    plt.title(\"Canny Edge Detector on Original Image\")\n",
    "    plt.show()\n",
    "\n",
    "    return img"
   ]
  },
  {
   "cell_type": "code",
   "execution_count": 73,
   "id": "7faaeddc",
   "metadata": {},
   "outputs": [],
   "source": [
    "\n",
    "def add_gaussian_noise(image, mean=0, sigma=1):\n",
    "    noise = np.random.normal(mean, sigma, image.shape)\n",
    "    noisy_image = image + noise\n",
    "    noisy_image = np.clip(noisy_image, 0, 255)\n",
    "    return noisy_image.astype(np.uint8)"
   ]
  },
  {
   "cell_type": "code",
   "execution_count": 74,
   "id": "e4f9ee5a",
   "metadata": {},
   "outputs": [],
   "source": [
    "def compare_edge_detectors(img, ground_truth, edge_detectors):\n",
    "    def pratt_figure_of_merit(tp, fp, fn):\n",
    "        return (2 * tp) / (2 * tp + fp + fn)\n",
    "    \n",
    "    results = []\n",
    "    for name, detector in edge_detectors.items():\n",
    "        edges = detector(img)\n",
    "        tp = np.sum(np.logical_and(edges > 0, ground_truth > 0))\n",
    "        fp = np.sum(np.logical_and(edges > 0, ground_truth == 0))\n",
    "        fn = np.sum(np.logical_and(edges == 0, ground_truth > 0))\n",
    "        score = pratt_figure_of_merit(tp, fp, fn)\n",
    "        results.append((name, score))\n",
    "        \n",
    "    return results"
   ]
  },
  {
   "cell_type": "code",
   "execution_count": 75,
   "id": "a8c86e0e",
   "metadata": {},
   "outputs": [],
   "source": [
    "def fom(img, original, alpha  = 1.0 / 9):\n",
    "    \"\"\"\n",
    "    Computing Pratt's Figure of Merit for the given image img.\n",
    "    \"\"\"\n",
    "    \n",
    "    # Compute the distance transform for the standard image.\n",
    "    dist = distance_transform_edt(np.invert(original))\n",
    "\n",
    "    fom = 1.0 / np.maximum(\n",
    "        np.count_nonzero(img),\n",
    "        np.count_nonzero(original))\n",
    "\n",
    "    N, M = img.shape\n",
    "\n",
    "    for i in range(0, N-2):\n",
    "        for j in range(0, M-2):\n",
    "            if (img[i, j]).any():\n",
    "                fom += 1.0 / ( 1.0 + dist[i, j] * dist[i, j] * alpha)\n",
    "\n",
    "    fom /= np.maximum(\n",
    "        np.count_nonzero(img),\n",
    "        np.count_nonzero(original))    \n",
    "\n",
    "    return fom"
   ]
  },
  {
   "cell_type": "code",
   "execution_count": 76,
   "id": "df2c46e0",
   "metadata": {},
   "outputs": [
    {
     "data": {
      "image/png": "[encoded data removed]",
      "text/plain": [
       "<Figure size 432x288 with 1 Axes>"
      ]
     },
     "metadata": {
      "needs_background": "light"
     },
     "output_type": "display_data"
    },
    {
     "data": {
      "image/png": "[encoded data removed]",
      "text/plain": [
       "<Figure size 432x288 with 1 Axes>"
      ]
     },
     "metadata": {
      "needs_background": "light"
     },
     "output_type": "display_data"
    },
    {
     "data": {
      "image/png": "[encoded data removed]",
      "text/plain": [
       "<Figure size 1080x720 with 6 Axes>"
      ]
     },
     "metadata": {
      "needs_background": "light"
     },
     "output_type": "display_data"
    },
    {
     "name": "stdout",
     "output_type": "stream",
     "text": [
      "[('Canny', 0.64), ('Sobel', 0.6666666666666666), ('prewitt', 0.6666666666666666), ('roberts', 0.6666666666666666), ('GaussianBlur', 0.03595828838547285)]\n",
      "################################################\n",
      "Printing Result from the other PFOM function\n",
      "When compared the Canny edge detector with the ground truth, the result of PFOM is:  0.9441000000000008\n",
      "When compared the Sobel edge detector with the ground truth, the result of PFOM is:  0.9310250000000018\n",
      "When compared the prewitt edge detector with the ground truth, the result of PFOM is:  0.9310250000000018\n",
      "When compared the roberts edge detector with the ground truth, the result of PFOM is:  0.9310250000000018\n",
      "When compared the GaussianBlur edge detector with the ground truth, the result of PFOM is:  0.11070745879402004\n"
     ]
    }
   ],
   "source": [
    "i = create_image()\n",
    "noisy_image = add_gaussian_noise(i)\n",
    "apply_edge_detectors(noisy_image)\n",
    "\n",
    "edge_detectors = {\n",
    "    'Canny': canny_detector,\n",
    "    'Sobel': sobel_detector,\n",
    "    'prewitt': prewitt_detector,\n",
    "    'roberts': roberts_detector,\n",
    "    'GaussianBlur': GaussianBlur,\n",
    "}\n",
    "\n",
    "ground_truth = cv2.Canny(i, 50, 150)\n",
    "results = compare_edge_detectors(noisy_image, ground_truth, edge_detectors)\n",
    "print(results)\n",
    "\n",
    "print(\"################################################\")\n",
    "print(\"Printing Result from the other PFOM function\")\n",
    "\n",
    "canny = canny_detector(noisy_image)\n",
    "print(\"When compared the Canny edge detector with the ground truth, the result of PFOM is: \", fom(canny, ground_truth))\n",
    "\n",
    "sobel = sobel_detector(noisy_image)\n",
    "print(\"When compared the Sobel edge detector with the ground truth, the result of PFOM is: \", fom(sobel, ground_truth))\n",
    "\n",
    "prewitt = prewitt_detector(noisy_image)\n",
    "print(\"When compared the prewitt edge detector with the ground truth, the result of PFOM is: \", fom(prewitt, ground_truth))\n",
    "\n",
    "roberts = roberts_detector(noisy_image)\n",
    "print(\"When compared the roberts edge detector with the ground truth, the result of PFOM is: \", fom(roberts, ground_truth))\n",
    "\n",
    "\n",
    "GaussianBlur = GaussianBlur(noisy_image)\n",
    "print(\"When compared the GaussianBlur edge detector with the ground truth, the result of PFOM is: \", fom(GaussianBlur, ground_truth))"
   ]
  }
 ],
 "metadata": {
  "kernelspec": {
   "display_name": "ssi",
   "language": "python",
   "name": "python3"
  },
  "language_info": {
   "codemirror_mode": {
    "name": "ipython",
    "version": 3
   },
   "file_extension": ".py",
   "mimetype": "text/x-python",
   "name": "python",
   "nbconvert_exporter": "python",
   "pygments_lexer": "ipython3",
   "version": "3.9.16"
  },
  "vscode": {
   "interpreter": {
    "hash": "50fc839c35699090f2fe415e0ac899c7b4f5ec29d09e32f0fdd94f9ebeca65eb"
   }
  }
 },
 "nbformat": 4,
 "nbformat_minor": 5
}
